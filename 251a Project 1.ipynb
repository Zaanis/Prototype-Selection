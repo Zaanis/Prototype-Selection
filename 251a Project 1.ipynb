{
 "cells": [
  {
   "cell_type": "code",
   "execution_count": 1,
   "id": "7c6f44f6",
   "metadata": {},
   "outputs": [],
   "source": [
    "import pandas as pd\n",
    "import numpy as np\n",
    "import warnings\n",
    "warnings.filterwarnings(\"ignore\")"
   ]
  },
  {
   "cell_type": "code",
   "execution_count": 2,
   "id": "5f8e4510",
   "metadata": {},
   "outputs": [
    {
     "data": {
      "text/plain": [
       "((70000, 784), (70000,))"
      ]
     },
     "execution_count": 2,
     "metadata": {},
     "output_type": "execute_result"
    }
   ],
   "source": [
    "from sklearn.datasets import fetch_openml\n",
    "\n",
    "# Fetching the MNIST dataset\n",
    "mnist = fetch_openml('mnist_784', version=1)\n",
    "x = mnist.data\n",
    "y = mnist.target\n",
    "\n",
    "x.shape, y.shape"
   ]
  },
  {
   "cell_type": "code",
   "execution_count": 3,
   "id": "13a60287",
   "metadata": {},
   "outputs": [],
   "source": [
    "x_train, x_test = x[:60000], x[60000:]\n",
    "y_train, y_test = y[:60000], y[60000:]"
   ]
  },
  {
   "cell_type": "code",
   "execution_count": 4,
   "id": "ecf01da7",
   "metadata": {},
   "outputs": [
    {
     "data": {
      "text/plain": [
       "(60000, 784)"
      ]
     },
     "execution_count": 4,
     "metadata": {},
     "output_type": "execute_result"
    }
   ],
   "source": [
    "x_train.shape"
   ]
  },
  {
   "cell_type": "code",
   "execution_count": 5,
   "id": "abb918e6",
   "metadata": {},
   "outputs": [
    {
     "data": {
      "text/plain": [
       "(10000, 784)"
      ]
     },
     "execution_count": 5,
     "metadata": {},
     "output_type": "execute_result"
    }
   ],
   "source": [
    "x_test.shape"
   ]
  },
  {
   "cell_type": "code",
   "execution_count": 6,
   "id": "d6a5c61a",
   "metadata": {},
   "outputs": [
    {
     "name": "stdout",
     "output_type": "stream",
     "text": [
      "CPU times: total: 141 ms\n",
      "Wall time: 274 ms\n"
     ]
    },
    {
     "data": {
      "text/html": [
       "<style>#sk-container-id-1 {\n",
       "  /* Definition of color scheme common for light and dark mode */\n",
       "  --sklearn-color-text: black;\n",
       "  --sklearn-color-line: gray;\n",
       "  /* Definition of color scheme for unfitted estimators */\n",
       "  --sklearn-color-unfitted-level-0: #fff5e6;\n",
       "  --sklearn-color-unfitted-level-1: #f6e4d2;\n",
       "  --sklearn-color-unfitted-level-2: #ffe0b3;\n",
       "  --sklearn-color-unfitted-level-3: chocolate;\n",
       "  /* Definition of color scheme for fitted estimators */\n",
       "  --sklearn-color-fitted-level-0: #f0f8ff;\n",
       "  --sklearn-color-fitted-level-1: #d4ebff;\n",
       "  --sklearn-color-fitted-level-2: #b3dbfd;\n",
       "  --sklearn-color-fitted-level-3: cornflowerblue;\n",
       "\n",
       "  /* Specific color for light theme */\n",
       "  --sklearn-color-text-on-default-background: var(--sg-text-color, var(--theme-code-foreground, var(--jp-content-font-color1, black)));\n",
       "  --sklearn-color-background: var(--sg-background-color, var(--theme-background, var(--jp-layout-color0, white)));\n",
       "  --sklearn-color-border-box: var(--sg-text-color, var(--theme-code-foreground, var(--jp-content-font-color1, black)));\n",
       "  --sklearn-color-icon: #696969;\n",
       "\n",
       "  @media (prefers-color-scheme: dark) {\n",
       "    /* Redefinition of color scheme for dark theme */\n",
       "    --sklearn-color-text-on-default-background: var(--sg-text-color, var(--theme-code-foreground, var(--jp-content-font-color1, white)));\n",
       "    --sklearn-color-background: var(--sg-background-color, var(--theme-background, var(--jp-layout-color0, #111)));\n",
       "    --sklearn-color-border-box: var(--sg-text-color, var(--theme-code-foreground, var(--jp-content-font-color1, white)));\n",
       "    --sklearn-color-icon: #878787;\n",
       "  }\n",
       "}\n",
       "\n",
       "#sk-container-id-1 {\n",
       "  color: var(--sklearn-color-text);\n",
       "}\n",
       "\n",
       "#sk-container-id-1 pre {\n",
       "  padding: 0;\n",
       "}\n",
       "\n",
       "#sk-container-id-1 input.sk-hidden--visually {\n",
       "  border: 0;\n",
       "  clip: rect(1px 1px 1px 1px);\n",
       "  clip: rect(1px, 1px, 1px, 1px);\n",
       "  height: 1px;\n",
       "  margin: -1px;\n",
       "  overflow: hidden;\n",
       "  padding: 0;\n",
       "  position: absolute;\n",
       "  width: 1px;\n",
       "}\n",
       "\n",
       "#sk-container-id-1 div.sk-dashed-wrapped {\n",
       "  border: 1px dashed var(--sklearn-color-line);\n",
       "  margin: 0 0.4em 0.5em 0.4em;\n",
       "  box-sizing: border-box;\n",
       "  padding-bottom: 0.4em;\n",
       "  background-color: var(--sklearn-color-background);\n",
       "}\n",
       "\n",
       "#sk-container-id-1 div.sk-container {\n",
       "  /* jupyter's `normalize.less` sets `[hidden] { display: none; }`\n",
       "     but bootstrap.min.css set `[hidden] { display: none !important; }`\n",
       "     so we also need the `!important` here to be able to override the\n",
       "     default hidden behavior on the sphinx rendered scikit-learn.org.\n",
       "     See: https://github.com/scikit-learn/scikit-learn/issues/21755 */\n",
       "  display: inline-block !important;\n",
       "  position: relative;\n",
       "}\n",
       "\n",
       "#sk-container-id-1 div.sk-text-repr-fallback {\n",
       "  display: none;\n",
       "}\n",
       "\n",
       "div.sk-parallel-item,\n",
       "div.sk-serial,\n",
       "div.sk-item {\n",
       "  /* draw centered vertical line to link estimators */\n",
       "  background-image: linear-gradient(var(--sklearn-color-text-on-default-background), var(--sklearn-color-text-on-default-background));\n",
       "  background-size: 2px 100%;\n",
       "  background-repeat: no-repeat;\n",
       "  background-position: center center;\n",
       "}\n",
       "\n",
       "/* Parallel-specific style estimator block */\n",
       "\n",
       "#sk-container-id-1 div.sk-parallel-item::after {\n",
       "  content: \"\";\n",
       "  width: 100%;\n",
       "  border-bottom: 2px solid var(--sklearn-color-text-on-default-background);\n",
       "  flex-grow: 1;\n",
       "}\n",
       "\n",
       "#sk-container-id-1 div.sk-parallel {\n",
       "  display: flex;\n",
       "  align-items: stretch;\n",
       "  justify-content: center;\n",
       "  background-color: var(--sklearn-color-background);\n",
       "  position: relative;\n",
       "}\n",
       "\n",
       "#sk-container-id-1 div.sk-parallel-item {\n",
       "  display: flex;\n",
       "  flex-direction: column;\n",
       "}\n",
       "\n",
       "#sk-container-id-1 div.sk-parallel-item:first-child::after {\n",
       "  align-self: flex-end;\n",
       "  width: 50%;\n",
       "}\n",
       "\n",
       "#sk-container-id-1 div.sk-parallel-item:last-child::after {\n",
       "  align-self: flex-start;\n",
       "  width: 50%;\n",
       "}\n",
       "\n",
       "#sk-container-id-1 div.sk-parallel-item:only-child::after {\n",
       "  width: 0;\n",
       "}\n",
       "\n",
       "/* Serial-specific style estimator block */\n",
       "\n",
       "#sk-container-id-1 div.sk-serial {\n",
       "  display: flex;\n",
       "  flex-direction: column;\n",
       "  align-items: center;\n",
       "  background-color: var(--sklearn-color-background);\n",
       "  padding-right: 1em;\n",
       "  padding-left: 1em;\n",
       "}\n",
       "\n",
       "\n",
       "/* Toggleable style: style used for estimator/Pipeline/ColumnTransformer box that is\n",
       "clickable and can be expanded/collapsed.\n",
       "- Pipeline and ColumnTransformer use this feature and define the default style\n",
       "- Estimators will overwrite some part of the style using the `sk-estimator` class\n",
       "*/\n",
       "\n",
       "/* Pipeline and ColumnTransformer style (default) */\n",
       "\n",
       "#sk-container-id-1 div.sk-toggleable {\n",
       "  /* Default theme specific background. It is overwritten whether we have a\n",
       "  specific estimator or a Pipeline/ColumnTransformer */\n",
       "  background-color: var(--sklearn-color-background);\n",
       "}\n",
       "\n",
       "/* Toggleable label */\n",
       "#sk-container-id-1 label.sk-toggleable__label {\n",
       "  cursor: pointer;\n",
       "  display: block;\n",
       "  width: 100%;\n",
       "  margin-bottom: 0;\n",
       "  padding: 0.5em;\n",
       "  box-sizing: border-box;\n",
       "  text-align: center;\n",
       "}\n",
       "\n",
       "#sk-container-id-1 label.sk-toggleable__label-arrow:before {\n",
       "  /* Arrow on the left of the label */\n",
       "  content: \"▸\";\n",
       "  float: left;\n",
       "  margin-right: 0.25em;\n",
       "  color: var(--sklearn-color-icon);\n",
       "}\n",
       "\n",
       "#sk-container-id-1 label.sk-toggleable__label-arrow:hover:before {\n",
       "  color: var(--sklearn-color-text);\n",
       "}\n",
       "\n",
       "/* Toggleable content - dropdown */\n",
       "\n",
       "#sk-container-id-1 div.sk-toggleable__content {\n",
       "  max-height: 0;\n",
       "  max-width: 0;\n",
       "  overflow: hidden;\n",
       "  text-align: left;\n",
       "  /* unfitted */\n",
       "  background-color: var(--sklearn-color-unfitted-level-0);\n",
       "}\n",
       "\n",
       "#sk-container-id-1 div.sk-toggleable__content.fitted {\n",
       "  /* fitted */\n",
       "  background-color: var(--sklearn-color-fitted-level-0);\n",
       "}\n",
       "\n",
       "#sk-container-id-1 div.sk-toggleable__content pre {\n",
       "  margin: 0.2em;\n",
       "  border-radius: 0.25em;\n",
       "  color: var(--sklearn-color-text);\n",
       "  /* unfitted */\n",
       "  background-color: var(--sklearn-color-unfitted-level-0);\n",
       "}\n",
       "\n",
       "#sk-container-id-1 div.sk-toggleable__content.fitted pre {\n",
       "  /* unfitted */\n",
       "  background-color: var(--sklearn-color-fitted-level-0);\n",
       "}\n",
       "\n",
       "#sk-container-id-1 input.sk-toggleable__control:checked~div.sk-toggleable__content {\n",
       "  /* Expand drop-down */\n",
       "  max-height: 200px;\n",
       "  max-width: 100%;\n",
       "  overflow: auto;\n",
       "}\n",
       "\n",
       "#sk-container-id-1 input.sk-toggleable__control:checked~label.sk-toggleable__label-arrow:before {\n",
       "  content: \"▾\";\n",
       "}\n",
       "\n",
       "/* Pipeline/ColumnTransformer-specific style */\n",
       "\n",
       "#sk-container-id-1 div.sk-label input.sk-toggleable__control:checked~label.sk-toggleable__label {\n",
       "  color: var(--sklearn-color-text);\n",
       "  background-color: var(--sklearn-color-unfitted-level-2);\n",
       "}\n",
       "\n",
       "#sk-container-id-1 div.sk-label.fitted input.sk-toggleable__control:checked~label.sk-toggleable__label {\n",
       "  background-color: var(--sklearn-color-fitted-level-2);\n",
       "}\n",
       "\n",
       "/* Estimator-specific style */\n",
       "\n",
       "/* Colorize estimator box */\n",
       "#sk-container-id-1 div.sk-estimator input.sk-toggleable__control:checked~label.sk-toggleable__label {\n",
       "  /* unfitted */\n",
       "  background-color: var(--sklearn-color-unfitted-level-2);\n",
       "}\n",
       "\n",
       "#sk-container-id-1 div.sk-estimator.fitted input.sk-toggleable__control:checked~label.sk-toggleable__label {\n",
       "  /* fitted */\n",
       "  background-color: var(--sklearn-color-fitted-level-2);\n",
       "}\n",
       "\n",
       "#sk-container-id-1 div.sk-label label.sk-toggleable__label,\n",
       "#sk-container-id-1 div.sk-label label {\n",
       "  /* The background is the default theme color */\n",
       "  color: var(--sklearn-color-text-on-default-background);\n",
       "}\n",
       "\n",
       "/* On hover, darken the color of the background */\n",
       "#sk-container-id-1 div.sk-label:hover label.sk-toggleable__label {\n",
       "  color: var(--sklearn-color-text);\n",
       "  background-color: var(--sklearn-color-unfitted-level-2);\n",
       "}\n",
       "\n",
       "/* Label box, darken color on hover, fitted */\n",
       "#sk-container-id-1 div.sk-label.fitted:hover label.sk-toggleable__label.fitted {\n",
       "  color: var(--sklearn-color-text);\n",
       "  background-color: var(--sklearn-color-fitted-level-2);\n",
       "}\n",
       "\n",
       "/* Estimator label */\n",
       "\n",
       "#sk-container-id-1 div.sk-label label {\n",
       "  font-family: monospace;\n",
       "  font-weight: bold;\n",
       "  display: inline-block;\n",
       "  line-height: 1.2em;\n",
       "}\n",
       "\n",
       "#sk-container-id-1 div.sk-label-container {\n",
       "  text-align: center;\n",
       "}\n",
       "\n",
       "/* Estimator-specific */\n",
       "#sk-container-id-1 div.sk-estimator {\n",
       "  font-family: monospace;\n",
       "  border: 1px dotted var(--sklearn-color-border-box);\n",
       "  border-radius: 0.25em;\n",
       "  box-sizing: border-box;\n",
       "  margin-bottom: 0.5em;\n",
       "  /* unfitted */\n",
       "  background-color: var(--sklearn-color-unfitted-level-0);\n",
       "}\n",
       "\n",
       "#sk-container-id-1 div.sk-estimator.fitted {\n",
       "  /* fitted */\n",
       "  background-color: var(--sklearn-color-fitted-level-0);\n",
       "}\n",
       "\n",
       "/* on hover */\n",
       "#sk-container-id-1 div.sk-estimator:hover {\n",
       "  /* unfitted */\n",
       "  background-color: var(--sklearn-color-unfitted-level-2);\n",
       "}\n",
       "\n",
       "#sk-container-id-1 div.sk-estimator.fitted:hover {\n",
       "  /* fitted */\n",
       "  background-color: var(--sklearn-color-fitted-level-2);\n",
       "}\n",
       "\n",
       "/* Specification for estimator info (e.g. \"i\" and \"?\") */\n",
       "\n",
       "/* Common style for \"i\" and \"?\" */\n",
       "\n",
       ".sk-estimator-doc-link,\n",
       "a:link.sk-estimator-doc-link,\n",
       "a:visited.sk-estimator-doc-link {\n",
       "  float: right;\n",
       "  font-size: smaller;\n",
       "  line-height: 1em;\n",
       "  font-family: monospace;\n",
       "  background-color: var(--sklearn-color-background);\n",
       "  border-radius: 1em;\n",
       "  height: 1em;\n",
       "  width: 1em;\n",
       "  text-decoration: none !important;\n",
       "  margin-left: 1ex;\n",
       "  /* unfitted */\n",
       "  border: var(--sklearn-color-unfitted-level-1) 1pt solid;\n",
       "  color: var(--sklearn-color-unfitted-level-1);\n",
       "}\n",
       "\n",
       ".sk-estimator-doc-link.fitted,\n",
       "a:link.sk-estimator-doc-link.fitted,\n",
       "a:visited.sk-estimator-doc-link.fitted {\n",
       "  /* fitted */\n",
       "  border: var(--sklearn-color-fitted-level-1) 1pt solid;\n",
       "  color: var(--sklearn-color-fitted-level-1);\n",
       "}\n",
       "\n",
       "/* On hover */\n",
       "div.sk-estimator:hover .sk-estimator-doc-link:hover,\n",
       ".sk-estimator-doc-link:hover,\n",
       "div.sk-label-container:hover .sk-estimator-doc-link:hover,\n",
       ".sk-estimator-doc-link:hover {\n",
       "  /* unfitted */\n",
       "  background-color: var(--sklearn-color-unfitted-level-3);\n",
       "  color: var(--sklearn-color-background);\n",
       "  text-decoration: none;\n",
       "}\n",
       "\n",
       "div.sk-estimator.fitted:hover .sk-estimator-doc-link.fitted:hover,\n",
       ".sk-estimator-doc-link.fitted:hover,\n",
       "div.sk-label-container:hover .sk-estimator-doc-link.fitted:hover,\n",
       ".sk-estimator-doc-link.fitted:hover {\n",
       "  /* fitted */\n",
       "  background-color: var(--sklearn-color-fitted-level-3);\n",
       "  color: var(--sklearn-color-background);\n",
       "  text-decoration: none;\n",
       "}\n",
       "\n",
       "/* Span, style for the box shown on hovering the info icon */\n",
       ".sk-estimator-doc-link span {\n",
       "  display: none;\n",
       "  z-index: 9999;\n",
       "  position: relative;\n",
       "  font-weight: normal;\n",
       "  right: .2ex;\n",
       "  padding: .5ex;\n",
       "  margin: .5ex;\n",
       "  width: min-content;\n",
       "  min-width: 20ex;\n",
       "  max-width: 50ex;\n",
       "  color: var(--sklearn-color-text);\n",
       "  box-shadow: 2pt 2pt 4pt #999;\n",
       "  /* unfitted */\n",
       "  background: var(--sklearn-color-unfitted-level-0);\n",
       "  border: .5pt solid var(--sklearn-color-unfitted-level-3);\n",
       "}\n",
       "\n",
       ".sk-estimator-doc-link.fitted span {\n",
       "  /* fitted */\n",
       "  background: var(--sklearn-color-fitted-level-0);\n",
       "  border: var(--sklearn-color-fitted-level-3);\n",
       "}\n",
       "\n",
       ".sk-estimator-doc-link:hover span {\n",
       "  display: block;\n",
       "}\n",
       "\n",
       "/* \"?\"-specific style due to the `<a>` HTML tag */\n",
       "\n",
       "#sk-container-id-1 a.estimator_doc_link {\n",
       "  float: right;\n",
       "  font-size: 1rem;\n",
       "  line-height: 1em;\n",
       "  font-family: monospace;\n",
       "  background-color: var(--sklearn-color-background);\n",
       "  border-radius: 1rem;\n",
       "  height: 1rem;\n",
       "  width: 1rem;\n",
       "  text-decoration: none;\n",
       "  /* unfitted */\n",
       "  color: var(--sklearn-color-unfitted-level-1);\n",
       "  border: var(--sklearn-color-unfitted-level-1) 1pt solid;\n",
       "}\n",
       "\n",
       "#sk-container-id-1 a.estimator_doc_link.fitted {\n",
       "  /* fitted */\n",
       "  border: var(--sklearn-color-fitted-level-1) 1pt solid;\n",
       "  color: var(--sklearn-color-fitted-level-1);\n",
       "}\n",
       "\n",
       "/* On hover */\n",
       "#sk-container-id-1 a.estimator_doc_link:hover {\n",
       "  /* unfitted */\n",
       "  background-color: var(--sklearn-color-unfitted-level-3);\n",
       "  color: var(--sklearn-color-background);\n",
       "  text-decoration: none;\n",
       "}\n",
       "\n",
       "#sk-container-id-1 a.estimator_doc_link.fitted:hover {\n",
       "  /* fitted */\n",
       "  background-color: var(--sklearn-color-fitted-level-3);\n",
       "}\n",
       "</style><div id=\"sk-container-id-1\" class=\"sk-top-container\"><div class=\"sk-text-repr-fallback\"><pre>KNeighborsClassifier(n_neighbors=1)</pre><b>In a Jupyter environment, please rerun this cell to show the HTML representation or trust the notebook. <br />On GitHub, the HTML representation is unable to render, please try loading this page with nbviewer.org.</b></div><div class=\"sk-container\" hidden><div class=\"sk-item\"><div class=\"sk-estimator fitted sk-toggleable\"><input class=\"sk-toggleable__control sk-hidden--visually\" id=\"sk-estimator-id-1\" type=\"checkbox\" checked><label for=\"sk-estimator-id-1\" class=\"sk-toggleable__label fitted sk-toggleable__label-arrow fitted\">&nbsp;&nbsp;KNeighborsClassifier<a class=\"sk-estimator-doc-link fitted\" rel=\"noreferrer\" target=\"_blank\" href=\"https://scikit-learn.org/1.4/modules/generated/sklearn.neighbors.KNeighborsClassifier.html\">?<span>Documentation for KNeighborsClassifier</span></a><span class=\"sk-estimator-doc-link fitted\">i<span>Fitted</span></span></label><div class=\"sk-toggleable__content fitted\"><pre>KNeighborsClassifier(n_neighbors=1)</pre></div> </div></div></div></div>"
      ],
      "text/plain": [
       "KNeighborsClassifier(n_neighbors=1)"
      ]
     },
     "execution_count": 6,
     "metadata": {},
     "output_type": "execute_result"
    }
   ],
   "source": [
    "%%time\n",
    "from sklearn.neighbors import KNeighborsClassifier\n",
    "nn1 = KNeighborsClassifier(n_neighbors = 1)\n",
    "nn1.fit(x_train, y_train)"
   ]
  },
  {
   "cell_type": "code",
   "execution_count": 7,
   "id": "ec5699ce",
   "metadata": {},
   "outputs": [],
   "source": [
    "from sklearn.metrics import accuracy_score"
   ]
  },
  {
   "cell_type": "code",
   "execution_count": 10,
   "id": "8de19907",
   "metadata": {},
   "outputs": [
    {
     "name": "stdout",
     "output_type": "stream",
     "text": [
      "CPU times: total: 46.4 s\n",
      "Wall time: 7.46 s\n"
     ]
    },
    {
     "data": {
      "text/plain": [
       "0.9691"
      ]
     },
     "execution_count": 10,
     "metadata": {},
     "output_type": "execute_result"
    }
   ],
   "source": [
    "%%time\n",
    "accuracy_score(nn1.predict(x_test), y_test)"
   ]
  },
  {
   "cell_type": "code",
   "execution_count": 11,
   "id": "9db10509",
   "metadata": {},
   "outputs": [],
   "source": [
    "#Baseline, taking all 60000 datapoints as training"
   ]
  },
  {
   "cell_type": "markdown",
   "id": "5cf9f594",
   "metadata": {},
   "source": [
    "# Randomly selecting"
   ]
  },
  {
   "cell_type": "markdown",
   "id": "c39d0f7d",
   "metadata": {},
   "source": [
    "## 10000"
   ]
  },
  {
   "cell_type": "code",
   "execution_count": 45,
   "id": "aae615ef",
   "metadata": {},
   "outputs": [
    {
     "name": "stdout",
     "output_type": "stream",
     "text": [
      "0.0017239489551607679\n",
      "0.9494\n",
      "CPU times: total: 1min 19s\n",
      "Wall time: 14.1 s\n"
     ]
    }
   ],
   "source": [
    "%%time\n",
    "accuracies = []\n",
    "for i in range(10):\n",
    "    sampled_indices = x_train.index.to_series().sample(n=10000)\n",
    "    x_train_10000 = x_train.loc[sampled_indices]\n",
    "    y_train_10000 = y_train.loc[sampled_indices]\n",
    "    nn1.fit(x_train_10000, y_train_10000)\n",
    "    accuracies.append(accuracy_score(nn1.predict(x_test), y_test))\n",
    "print(np.array(accuracies).std())\n",
    "print(np.array(accuracies).mean())"
   ]
  },
  {
   "cell_type": "code",
   "execution_count": 46,
   "id": "fe712940",
   "metadata": {},
   "outputs": [
    {
     "data": {
      "text/plain": [
       "[0.9511, 0.9498, 0.952, 0.9493, 0.9481, 0.9506, 0.9463, 0.9488, 0.9508, 0.9472]"
      ]
     },
     "execution_count": 46,
     "metadata": {},
     "output_type": "execute_result"
    }
   ],
   "source": [
    "accuracies"
   ]
  },
  {
   "cell_type": "markdown",
   "id": "dec87b7c",
   "metadata": {},
   "source": [
    "## 5000"
   ]
  },
  {
   "cell_type": "code",
   "execution_count": 47,
   "id": "56beb371",
   "metadata": {},
   "outputs": [
    {
     "name": "stdout",
     "output_type": "stream",
     "text": [
      "0.0017333493589002684\n",
      "0.93545\n",
      "CPU times: total: 1min 21s\n",
      "Wall time: 16.4 s\n"
     ]
    }
   ],
   "source": [
    "%%time\n",
    "accuracies = []\n",
    "for i in range(10):\n",
    "    sampled_indices = x_train.index.to_series().sample(n=5000)\n",
    "    x_train_5000 = x_train.loc[sampled_indices]\n",
    "    y_train_5000 = y_train.loc[sampled_indices]\n",
    "    nn1.fit(x_train_5000, y_train_5000)\n",
    "    accuracy_score(nn1.predict(x_test), y_test)\n",
    "    accuracies.append(accuracy_score(nn1.predict(x_test), y_test))\n",
    "print(np.array(accuracies).std())\n",
    "print(np.array(accuracies).mean())"
   ]
  },
  {
   "cell_type": "markdown",
   "id": "7f68d0c5",
   "metadata": {},
   "source": [
    "## 1000"
   ]
  },
  {
   "cell_type": "code",
   "execution_count": 14,
   "id": "2c7ca66a",
   "metadata": {},
   "outputs": [
    {
     "name": "stdout",
     "output_type": "stream",
     "text": [
      "CPU times: total: 7.8 s\n",
      "Wall time: 1.34 s\n"
     ]
    },
    {
     "data": {
      "text/plain": [
       "0.9479"
      ]
     },
     "execution_count": 14,
     "metadata": {},
     "output_type": "execute_result"
    }
   ],
   "source": [
    "%%time\n",
    "nn1.fit(x_train_10000, y_train_10000)\n",
    "accuracy_score(nn1.predict(x_test), y_test)"
   ]
  },
  {
   "cell_type": "code",
   "execution_count": 48,
   "id": "21574a42",
   "metadata": {},
   "outputs": [
    {
     "name": "stdout",
     "output_type": "stream",
     "text": [
      "0.003440348819523978\n",
      "0.8869999999999999\n",
      "CPU times: total: 20.7 s\n",
      "Wall time: 6.9 s\n"
     ]
    }
   ],
   "source": [
    "%%time\n",
    "accuracies = []\n",
    "for i in range(10):\n",
    "    sampled_indices = x_train.index.to_series().sample(n=1000)\n",
    "    x_train_1000 = x_train.loc[sampled_indices]\n",
    "    y_train_1000 = y_train.loc[sampled_indices]\n",
    "    nn1.fit(x_train_1000, y_train_1000)\n",
    "    accuracy_score(nn1.predict(x_test), y_test)\n",
    "    accuracies.append(accuracy_score(nn1.predict(x_test), y_test))\n",
    "print(np.array(accuracies).std())\n",
    "print(np.array(accuracies).mean())"
   ]
  },
  {
   "cell_type": "markdown",
   "id": "492a7a37",
   "metadata": {},
   "source": [
    "## 100"
   ]
  },
  {
   "cell_type": "code",
   "execution_count": 49,
   "id": "8b1ec088",
   "metadata": {},
   "outputs": [
    {
     "name": "stdout",
     "output_type": "stream",
     "text": [
      "0.025161679196746806\n",
      "0.7128300000000001\n",
      "CPU times: total: 1.89 s\n",
      "Wall time: 4.16 s\n"
     ]
    }
   ],
   "source": [
    "%%time\n",
    "accuracies = []\n",
    "for i in range(10):\n",
    "    sampled_indices = x_train.index.to_series().sample(n=100)\n",
    "    x_train_100 = x_train.loc[sampled_indices]\n",
    "    y_train_100 = y_train.loc[sampled_indices]\n",
    "    nn1.fit(x_train_100, y_train_100)\n",
    "    accuracy_score(nn1.predict(x_test), y_test)\n",
    "    accuracies.append(accuracy_score(nn1.predict(x_test), y_test))\n",
    "print(np.array(accuracies).std())\n",
    "print(np.array(accuracies).mean())"
   ]
  },
  {
   "cell_type": "markdown",
   "id": "37915c01",
   "metadata": {},
   "source": [
    "# K-means clustering"
   ]
  },
  {
   "cell_type": "markdown",
   "id": "f088d37b",
   "metadata": {},
   "source": [
    "Splitting the data into 10 clusters, since there are 10 digits, I then choose the same amount of points from each cluster, getting the ones closest."
   ]
  },
  {
   "cell_type": "code",
   "execution_count": 11,
   "id": "5b63fc85",
   "metadata": {},
   "outputs": [],
   "source": [
    "from sklearn.cluster import KMeans"
   ]
  },
  {
   "cell_type": "code",
   "execution_count": 64,
   "id": "c70a7f82",
   "metadata": {},
   "outputs": [],
   "source": [
    "def clustering(x_train, y_train, n):\n",
    "    training = x_train.copy()\n",
    "    k = 10 \n",
    "    kmeans = KMeans(n_clusters=k)\n",
    "    kmeans.fit(x_train)\n",
    "    training['labels'] = y_train\n",
    "    labels = kmeans.labels_\n",
    "    prototypes = pd.DataFrame()\n",
    "    for i in range(10): #loop through each cluster\n",
    "        #get all points in the current cluster\n",
    "        cluster_points = training[labels == i]\n",
    "        #copmuting distances from the points to the center of the cluster\n",
    "        distances = np.linalg.norm(cluster_points.iloc[:, :784] - kmeans.cluster_centers_[i], axis = 1)\n",
    "        #get indices of n closest\n",
    "        closest_indices = np.argsort(distances)[:int(n/10)]\n",
    "\n",
    "        prototypes = pd.concat([prototypes, cluster_points.iloc[closest_indices]], axis =0)\n",
    "        \n",
    "    return prototypes.iloc[:,:784], prototypes['labels']"
   ]
  },
  {
   "cell_type": "markdown",
   "id": "1067bff9",
   "metadata": {},
   "source": [
    "### M = 10000"
   ]
  },
  {
   "cell_type": "code",
   "execution_count": 68,
   "id": "b1482e83",
   "metadata": {},
   "outputs": [
    {
     "name": "stdout",
     "output_type": "stream",
     "text": [
      "0.8690900000000001\n",
      "0.008921261121612787\n",
      "CPU times: total: 1min 41s\n",
      "Wall time: 39.2 s\n"
     ]
    }
   ],
   "source": [
    "%%time\n",
    "accuracies = []\n",
    "for i in range(10):\n",
    "    x_train_c10000, y_train_c10000 = clustering(x_train, y_train, 10000)\n",
    "    nn1.fit(x_train_c10000, y_train_c10000)\n",
    "    accuracies.append(accuracy_score(nn1.predict(x_test), y_test))\n",
    "print(np.array(accuracies).mean())\n",
    "print(np.array(accuracies).std())"
   ]
  },
  {
   "cell_type": "markdown",
   "id": "687cadd8",
   "metadata": {},
   "source": [
    "### M = 5000"
   ]
  },
  {
   "cell_type": "code",
   "execution_count": 69,
   "id": "9a7ac90e",
   "metadata": {},
   "outputs": [
    {
     "name": "stdout",
     "output_type": "stream",
     "text": [
      "0.82537\n",
      "0.008432680475388594\n",
      "CPU times: total: 1min 8s\n",
      "Wall time: 35.5 s\n"
     ]
    }
   ],
   "source": [
    "%%time\n",
    "accuracies = []\n",
    "for i in range(10):\n",
    "    x_train_c10000, y_train_c10000 = clustering(x_train, y_train, 5000)\n",
    "    nn1.fit(x_train_c10000, y_train_c10000)\n",
    "    accuracies.append(accuracy_score(nn1.predict(x_test), y_test))\n",
    "print(np.array(accuracies).mean())\n",
    "print(np.array(accuracies).std())"
   ]
  },
  {
   "cell_type": "markdown",
   "id": "aa326af6",
   "metadata": {},
   "source": [
    "### M = 1000"
   ]
  },
  {
   "cell_type": "code",
   "execution_count": 70,
   "id": "05cafdd6",
   "metadata": {},
   "outputs": [
    {
     "name": "stdout",
     "output_type": "stream",
     "text": [
      "0.7515\n",
      "0.0065820969303102585\n",
      "CPU times: total: 37.6 s\n",
      "Wall time: 27.7 s\n"
     ]
    }
   ],
   "source": [
    "%%time\n",
    "accuracies = []\n",
    "for i in range(10):\n",
    "    x_train_c10000, y_train_c10000 = clustering(x_train, y_train, 1000)\n",
    "    nn1.fit(x_train_c10000, y_train_c10000)\n",
    "    accuracies.append(accuracy_score(nn1.predict(x_test), y_test))\n",
    "print(np.array(accuracies).mean())\n",
    "print(np.array(accuracies).std())"
   ]
  },
  {
   "cell_type": "markdown",
   "id": "19e7bf7b",
   "metadata": {},
   "source": [
    "### M = 100"
   ]
  },
  {
   "cell_type": "code",
   "execution_count": 56,
   "id": "c2c1f4e2",
   "metadata": {},
   "outputs": [
    {
     "data": {
      "text/plain": [
       "0.9691"
      ]
     },
     "execution_count": 56,
     "metadata": {},
     "output_type": "execute_result"
    }
   ],
   "source": [
    "    x_train_c10000, y_train_c10000 = clustering(x_train, y_train, 10000)\n",
    "    nn1.fit(x_train_c10000, y_train_c10000)\n",
    "    (accuracy_score(nn1.predict(x_test), y_test))"
   ]
  },
  {
   "cell_type": "code",
   "execution_count": 71,
   "id": "6735814e",
   "metadata": {},
   "outputs": [
    {
     "name": "stdout",
     "output_type": "stream",
     "text": [
      "0.64463\n",
      "0.01562811888872105\n",
      "CPU times: total: 28 s\n",
      "Wall time: 26.2 s\n"
     ]
    }
   ],
   "source": [
    "%%time\n",
    "accuracies = []\n",
    "for i in range(10):\n",
    "    x_train_c10000, y_train_c10000 = clustering(x_train, y_train, 100)\n",
    "    nn1.fit(x_train_c10000, y_train_c10000)\n",
    "    accuracies.append(accuracy_score(nn1.predict(x_test), y_test))\n",
    "print(np.array(accuracies).mean())\n",
    "print(np.array(accuracies).std())"
   ]
  },
  {
   "cell_type": "markdown",
   "id": "14e2d859",
   "metadata": {},
   "source": [
    "## K means clustering 2"
   ]
  },
  {
   "cell_type": "markdown",
   "id": "0de4a994",
   "metadata": {},
   "source": [
    "split into M clusters and take the closest point to center"
   ]
  },
  {
   "cell_type": "markdown",
   "id": "1c5b14dd",
   "metadata": {},
   "source": [
    "### M = 10000"
   ]
  },
  {
   "cell_type": "code",
   "execution_count": 12,
   "id": "3f06cd5b",
   "metadata": {},
   "outputs": [],
   "source": [
    "def clustering2(x_train, y_train, M):\n",
    "    kmeans = KMeans(n_clusters = M)\n",
    "    kmeans.fit(x_train)\n",
    "    labels = kmeans.labels_\n",
    "    prototypes = pd.DataFrame()\n",
    "    training = x_train.copy()\n",
    "    training['labels'] = y_train\n",
    "    for i in range(M): #loop through each cluster\n",
    "        #get all points in the current cluster\n",
    "        cluster_points = training[labels ==i]\n",
    "        #copmuting distances from the points to the center of the cluster\n",
    "        distances = np.linalg.norm(cluster_points.iloc[:, :784] - kmeans.cluster_centers_[i], axis = 1)\n",
    "        #get indices of n closest\n",
    "        closest_indices = np.argsort(distances)[:1]\n",
    "\n",
    "        prototypes = pd.concat([prototypes, cluster_points.iloc[closest_indices]], axis =0)\n",
    "        \n",
    "    return prototypes.iloc[:,:784], prototypes['labels']"
   ]
  },
  {
   "cell_type": "code",
   "execution_count": 13,
   "id": "0b044c22",
   "metadata": {},
   "outputs": [
    {
     "name": "stdout",
     "output_type": "stream",
     "text": [
      "0.9575400000000001\n",
      "0.001065082156455538\n",
      "CPU times: total: 2h 29min 40s\n",
      "Wall time: 52min 17s\n"
     ]
    }
   ],
   "source": [
    "%%time\n",
    "accuracies = []\n",
    "for i in range(10):\n",
    "    a, b = clustering2(x_train, y_train, 10000)\n",
    "    nn1.fit(a, b)    \n",
    "    accuracies.append(accuracy_score(nn1.predict(x_test), y_test))\n",
    "print(np.array(accuracies).mean())\n",
    "print(np.array(accuracies).std())"
   ]
  },
  {
   "cell_type": "code",
   "execution_count": 3,
   "id": "9f6f14b2",
   "metadata": {},
   "outputs": [
    {
     "data": {
      "text/plain": [
       "8980"
      ]
     },
     "execution_count": 3,
     "metadata": {},
     "output_type": "execute_result"
    }
   ],
   "source": [
    "(149) * 60 + 40"
   ]
  },
  {
   "cell_type": "markdown",
   "id": "f6d2e7ea",
   "metadata": {},
   "source": [
    "### M = 5000\n"
   ]
  },
  {
   "cell_type": "code",
   "execution_count": 73,
   "id": "aad73d30",
   "metadata": {},
   "outputs": [],
   "source": [
    "a, b = clustering2(x_train, y_train, 5000)"
   ]
  },
  {
   "cell_type": "code",
   "execution_count": 14,
   "id": "3c2fe76b",
   "metadata": {},
   "outputs": [
    {
     "name": "stdout",
     "output_type": "stream",
     "text": [
      "0.95037\n",
      "0.0012688971589533977\n",
      "CPU times: total: 1h 10min 11s\n",
      "Wall time: 23min 20s\n"
     ]
    }
   ],
   "source": [
    "%%time\n",
    "accuracies = []\n",
    "for i in range(10):\n",
    "    a, b = clustering2(x_train, y_train, 5000)\n",
    "    nn1.fit(a, b)\n",
    "    accuracies.append(accuracy_score(nn1.predict(x_test), y_test))\n",
    "print(np.array(accuracies).mean())\n",
    "print(np.array(accuracies).std())"
   ]
  },
  {
   "cell_type": "markdown",
   "id": "016daf9a",
   "metadata": {},
   "source": [
    "### M = 1000"
   ]
  },
  {
   "cell_type": "code",
   "execution_count": 75,
   "id": "a5fd23ac",
   "metadata": {},
   "outputs": [],
   "source": [
    "a, b = clustering2(x_train, y_train, 1000)"
   ]
  },
  {
   "cell_type": "code",
   "execution_count": 15,
   "id": "50419d15",
   "metadata": {},
   "outputs": [
    {
     "name": "stdout",
     "output_type": "stream",
     "text": [
      "0.9258200000000001\n",
      "0.001718604084715267\n",
      "CPU times: total: 26min 17s\n",
      "Wall time: 5min 39s\n"
     ]
    }
   ],
   "source": [
    "%%time\n",
    "accuracies = []\n",
    "for i in range(10):\n",
    "    a, b = clustering2(x_train, y_train, 1000)\n",
    "    nn1.fit(a, b)\n",
    "    accuracies.append(accuracy_score(nn1.predict(x_test), y_test))\n",
    "print(np.array(accuracies).mean())\n",
    "print(np.array(accuracies).std())"
   ]
  },
  {
   "cell_type": "markdown",
   "id": "dee01d61",
   "metadata": {},
   "source": [
    "### M = 100"
   ]
  },
  {
   "cell_type": "code",
   "execution_count": 77,
   "id": "359eb9d1",
   "metadata": {},
   "outputs": [],
   "source": [
    "a, b = clustering2(x_train, y_train, 100)"
   ]
  },
  {
   "cell_type": "code",
   "execution_count": 16,
   "id": "4f243cf9",
   "metadata": {},
   "outputs": [
    {
     "name": "stdout",
     "output_type": "stream",
     "text": [
      "0.84719\n",
      "0.005584344187100215\n",
      "CPU times: total: 7min 39s\n",
      "Wall time: 1min 30s\n"
     ]
    }
   ],
   "source": [
    "%%time\n",
    "accuracies = []\n",
    "for i in range(10):\n",
    "    a, b = clustering2(x_train, y_train, 100)\n",
    "    nn1.fit(a, b)\n",
    "    accuracies.append(accuracy_score(nn1.predict(x_test), y_test))\n",
    "print(np.array(accuracies).mean())\n",
    "print(np.array(accuracies).std())"
   ]
  },
  {
   "cell_type": "code",
   "execution_count": 6,
   "id": "fd246326",
   "metadata": {},
   "outputs": [
    {
     "data": {
      "text/plain": [
       "459"
      ]
     },
     "execution_count": 6,
     "metadata": {},
     "output_type": "execute_result"
    }
   ],
   "source": [
    "7*60+39"
   ]
  },
  {
   "cell_type": "markdown",
   "id": "6392752e",
   "metadata": {},
   "source": [
    "# CNN"
   ]
  },
  {
   "cell_type": "code",
   "execution_count": 33,
   "id": "3bde3649",
   "metadata": {},
   "outputs": [],
   "source": [
    "# from sklearn.neighbors import NearestNeighbors\n",
    "# def condensed_nearest_neighbor(X, y):\n",
    "\n",
    "#     # Initialize S with one random instance of each class\n",
    "#     classes = np.unique(y)\n",
    "#     indices = [np.random.choice(np.where(y == cls)[0]) for cls in classes]\n",
    "#     S_X = X[indices]\n",
    "#     S_y = y[indices]\n",
    "\n",
    "#     # Create a nearest neighbor model\n",
    "#     nbrs = NearestNeighbors(n_neighbors=1)\n",
    "\n",
    "#     # Iterate until no misclassified instances are found\n",
    "#     misclassified = True\n",
    "#     while misclassified:\n",
    "#         misclassified = False\n",
    "#         nbrs.fit(S_X)\n",
    "\n",
    "#         for i, (x, label) in enumerate(zip(X, y)):\n",
    "#             # Find the nearest neighbor in S\n",
    "#             distances, neighbors = nbrs.kneighbors([x])\n",
    "#             nearest_neighbor_label = S_y[neighbors[0][0]]\n",
    "\n",
    "#             # If misclassified, add to S\n",
    "#             if label != nearest_neighbor_label:\n",
    "#                 S_X = np.vstack([S_X, x])\n",
    "#                 S_y = np.append(S_y, label)\n",
    "#                 misclassified = True\n",
    "\n",
    "#     return S_X, S_y"
   ]
  },
  {
   "cell_type": "code",
   "execution_count": 34,
   "id": "97f88c07",
   "metadata": {},
   "outputs": [],
   "source": [
    "# a, b = condensed_nearest_neighbor(x_train.to_numpy(), y_train.to_numpy())"
   ]
  },
  {
   "cell_type": "markdown",
   "id": "8c990561",
   "metadata": {},
   "source": [
    "# Active Learning Loop"
   ]
  },
  {
   "cell_type": "markdown",
   "id": "dd5301bf",
   "metadata": {},
   "source": [
    "Initialize:\n",
    "1. Set M = desired size of condensed set.\n",
    "2. Randomly select a small subset from the training set and use it to train an initial model.\n",
    "\n",
    "Active Learning Loop:\n",
    "While the size of the condensed set is less than M:\n",
    "    1. Use the model to predict on the entire (or a large subset of the) training set.\n",
    "    2. Identify the samples where the model's predictions are most uncertain.\n",
    "    3. Add a certain number of these uncertain samples to the condensed set.\n",
    "    4. Retrain the model on the updated condensed set.\n",
    "    5. Repeat until the condensed set reaches the size M or no more uncertain samples are found.\n",
    "\n",
    "Output:\n",
    "- The condensed set.\n"
   ]
  },
  {
   "cell_type": "code",
   "execution_count": 96,
   "id": "00645f2c",
   "metadata": {},
   "outputs": [],
   "source": [
    "import numpy as np\n",
    "from sklearn.linear_model import LogisticRegression\n",
    "\n",
    "def active_learning_prototype_selection(X, y, M, initial_subset_size=50):\n",
    "    # Initialize the condensed set with a random small subset\n",
    "    initial_indices = np.random.choice(range(len(X)), size=initial_subset_size, replace=False)\n",
    "    condensed_indices = initial_indices.tolist()\n",
    "    \n",
    "    # Train initial model\n",
    "    model = LogisticRegression(max_iter=1000)\n",
    "    model.fit(X[condensed_indices], y[condensed_indices])\n",
    "\n",
    "    while len(condensed_indices) < M:\n",
    "        # Predict on the remaining dataset\n",
    "        remaining_indices = list(set(range(len(X))) - set(condensed_indices))\n",
    "        if not remaining_indices:\n",
    "            break\n",
    "\n",
    "        probas = model.predict_proba(X[remaining_indices])\n",
    "        # Measure uncertainty (e.g., distance from 0.5 in binary classification)\n",
    "        uncertainty = np.abs(probas[:, 0] - 0.5)\n",
    "\n",
    "        # Select the most uncertain samples\n",
    "        uncertain_indices = np.argsort(uncertainty)[:M - len(condensed_indices)]\n",
    "        selected_indices = [remaining_indices[i] for i in uncertain_indices]\n",
    "\n",
    "        # Add to the condensed set and retrain model\n",
    "        condensed_indices.extend(selected_indices)\n",
    "        model.fit(X[condensed_indices], y[condensed_indices])\n",
    "\n",
    "    return X[condensed_indices], y[condensed_indices]"
   ]
  },
  {
   "cell_type": "markdown",
   "id": "8efd43b3",
   "metadata": {},
   "source": [
    "## 10000"
   ]
  },
  {
   "cell_type": "code",
   "execution_count": 99,
   "id": "6050a433",
   "metadata": {},
   "outputs": [
    {
     "name": "stdout",
     "output_type": "stream",
     "text": [
      "0.9479599999999999\n",
      "0.0018111874557869396\n",
      "CPU times: total: 1min 43s\n",
      "Wall time: 58 s\n"
     ]
    }
   ],
   "source": [
    "%%time\n",
    "accuracies = []\n",
    "for i in range(10):\n",
    "    a, b = active_learning_prototype_selection(x_train.to_numpy(), y_train.to_numpy(), 10000, 10000)\n",
    "    nn1.fit(a, b)\n",
    "    accuracies.append(accuracy_score(nn1.predict(x_test), y_test))\n",
    "print(np.array(accuracies).mean())\n",
    "print(np.array(accuracies).std())"
   ]
  },
  {
   "cell_type": "markdown",
   "id": "6addee50",
   "metadata": {},
   "source": [
    "## 5000"
   ]
  },
  {
   "cell_type": "code",
   "execution_count": 100,
   "id": "b66e050c",
   "metadata": {},
   "outputs": [
    {
     "name": "stdout",
     "output_type": "stream",
     "text": [
      "0.9359599999999999\n",
      "0.002036271101793681\n",
      "CPU times: total: 43 s\n",
      "Wall time: 15.5 s\n"
     ]
    }
   ],
   "source": [
    "%%time\n",
    "accuracies = []\n",
    "for i in range(10):\n",
    "    a, b = active_learning_prototype_selection(x_train.to_numpy(), y_train.to_numpy(), 5000, 5000)\n",
    "    nn1.fit(a, b)\n",
    "    accuracies.append(accuracy_score(nn1.predict(x_test), y_test))\n",
    "print(np.array(accuracies).mean())\n",
    "print(np.array(accuracies).std())"
   ]
  },
  {
   "cell_type": "markdown",
   "id": "4b39f675",
   "metadata": {},
   "source": [
    "## 1000"
   ]
  },
  {
   "cell_type": "code",
   "execution_count": 101,
   "id": "3c9138b3",
   "metadata": {},
   "outputs": [
    {
     "name": "stdout",
     "output_type": "stream",
     "text": [
      "0.8841699999999999\n",
      "0.0029475583115521386\n",
      "CPU times: total: 7.11 s\n",
      "Wall time: 4.35 s\n"
     ]
    }
   ],
   "source": [
    "%%time\n",
    "accuracies = []\n",
    "for i in range(10):\n",
    "    a, b = active_learning_prototype_selection(x_train.to_numpy(), y_train.to_numpy(), 1000, 1000)\n",
    "    nn1.fit(a, b)\n",
    "    accuracies.append(accuracy_score(nn1.predict(x_test), y_test))\n",
    "print(np.array(accuracies).mean())\n",
    "print(np.array(accuracies).std())"
   ]
  },
  {
   "cell_type": "markdown",
   "id": "3e5d1556",
   "metadata": {},
   "source": [
    "## 100"
   ]
  },
  {
   "cell_type": "code",
   "execution_count": 102,
   "id": "c6ecc259",
   "metadata": {},
   "outputs": [
    {
     "name": "stdout",
     "output_type": "stream",
     "text": [
      "0.70295\n",
      "0.01197591332633968\n",
      "CPU times: total: 875 ms\n",
      "Wall time: 2.59 s\n"
     ]
    }
   ],
   "source": [
    "%%time\n",
    "accuracies = []\n",
    "for i in range(10):\n",
    "    a, b = active_learning_prototype_selection(x_train.to_numpy(), y_train.to_numpy(), 100, 100)\n",
    "    nn1.fit(a, b)\n",
    "    accuracies.append(accuracy_score(nn1.predict(x_test), y_test))\n",
    "print(np.array(accuracies).mean())\n",
    "print(np.array(accuracies).std())"
   ]
  },
  {
   "cell_type": "markdown",
   "id": "c71efb26",
   "metadata": {},
   "source": [
    "# K means revisted"
   ]
  },
  {
   "cell_type": "code",
   "execution_count": 117,
   "id": "c9386330",
   "metadata": {},
   "outputs": [
    {
     "data": {
      "text/html": [
       "<style>#sk-container-id-6 {\n",
       "  /* Definition of color scheme common for light and dark mode */\n",
       "  --sklearn-color-text: black;\n",
       "  --sklearn-color-line: gray;\n",
       "  /* Definition of color scheme for unfitted estimators */\n",
       "  --sklearn-color-unfitted-level-0: #fff5e6;\n",
       "  --sklearn-color-unfitted-level-1: #f6e4d2;\n",
       "  --sklearn-color-unfitted-level-2: #ffe0b3;\n",
       "  --sklearn-color-unfitted-level-3: chocolate;\n",
       "  /* Definition of color scheme for fitted estimators */\n",
       "  --sklearn-color-fitted-level-0: #f0f8ff;\n",
       "  --sklearn-color-fitted-level-1: #d4ebff;\n",
       "  --sklearn-color-fitted-level-2: #b3dbfd;\n",
       "  --sklearn-color-fitted-level-3: cornflowerblue;\n",
       "\n",
       "  /* Specific color for light theme */\n",
       "  --sklearn-color-text-on-default-background: var(--sg-text-color, var(--theme-code-foreground, var(--jp-content-font-color1, black)));\n",
       "  --sklearn-color-background: var(--sg-background-color, var(--theme-background, var(--jp-layout-color0, white)));\n",
       "  --sklearn-color-border-box: var(--sg-text-color, var(--theme-code-foreground, var(--jp-content-font-color1, black)));\n",
       "  --sklearn-color-icon: #696969;\n",
       "\n",
       "  @media (prefers-color-scheme: dark) {\n",
       "    /* Redefinition of color scheme for dark theme */\n",
       "    --sklearn-color-text-on-default-background: var(--sg-text-color, var(--theme-code-foreground, var(--jp-content-font-color1, white)));\n",
       "    --sklearn-color-background: var(--sg-background-color, var(--theme-background, var(--jp-layout-color0, #111)));\n",
       "    --sklearn-color-border-box: var(--sg-text-color, var(--theme-code-foreground, var(--jp-content-font-color1, white)));\n",
       "    --sklearn-color-icon: #878787;\n",
       "  }\n",
       "}\n",
       "\n",
       "#sk-container-id-6 {\n",
       "  color: var(--sklearn-color-text);\n",
       "}\n",
       "\n",
       "#sk-container-id-6 pre {\n",
       "  padding: 0;\n",
       "}\n",
       "\n",
       "#sk-container-id-6 input.sk-hidden--visually {\n",
       "  border: 0;\n",
       "  clip: rect(1px 1px 1px 1px);\n",
       "  clip: rect(1px, 1px, 1px, 1px);\n",
       "  height: 1px;\n",
       "  margin: -1px;\n",
       "  overflow: hidden;\n",
       "  padding: 0;\n",
       "  position: absolute;\n",
       "  width: 1px;\n",
       "}\n",
       "\n",
       "#sk-container-id-6 div.sk-dashed-wrapped {\n",
       "  border: 1px dashed var(--sklearn-color-line);\n",
       "  margin: 0 0.4em 0.5em 0.4em;\n",
       "  box-sizing: border-box;\n",
       "  padding-bottom: 0.4em;\n",
       "  background-color: var(--sklearn-color-background);\n",
       "}\n",
       "\n",
       "#sk-container-id-6 div.sk-container {\n",
       "  /* jupyter's `normalize.less` sets `[hidden] { display: none; }`\n",
       "     but bootstrap.min.css set `[hidden] { display: none !important; }`\n",
       "     so we also need the `!important` here to be able to override the\n",
       "     default hidden behavior on the sphinx rendered scikit-learn.org.\n",
       "     See: https://github.com/scikit-learn/scikit-learn/issues/21755 */\n",
       "  display: inline-block !important;\n",
       "  position: relative;\n",
       "}\n",
       "\n",
       "#sk-container-id-6 div.sk-text-repr-fallback {\n",
       "  display: none;\n",
       "}\n",
       "\n",
       "div.sk-parallel-item,\n",
       "div.sk-serial,\n",
       "div.sk-item {\n",
       "  /* draw centered vertical line to link estimators */\n",
       "  background-image: linear-gradient(var(--sklearn-color-text-on-default-background), var(--sklearn-color-text-on-default-background));\n",
       "  background-size: 2px 100%;\n",
       "  background-repeat: no-repeat;\n",
       "  background-position: center center;\n",
       "}\n",
       "\n",
       "/* Parallel-specific style estimator block */\n",
       "\n",
       "#sk-container-id-6 div.sk-parallel-item::after {\n",
       "  content: \"\";\n",
       "  width: 100%;\n",
       "  border-bottom: 2px solid var(--sklearn-color-text-on-default-background);\n",
       "  flex-grow: 1;\n",
       "}\n",
       "\n",
       "#sk-container-id-6 div.sk-parallel {\n",
       "  display: flex;\n",
       "  align-items: stretch;\n",
       "  justify-content: center;\n",
       "  background-color: var(--sklearn-color-background);\n",
       "  position: relative;\n",
       "}\n",
       "\n",
       "#sk-container-id-6 div.sk-parallel-item {\n",
       "  display: flex;\n",
       "  flex-direction: column;\n",
       "}\n",
       "\n",
       "#sk-container-id-6 div.sk-parallel-item:first-child::after {\n",
       "  align-self: flex-end;\n",
       "  width: 50%;\n",
       "}\n",
       "\n",
       "#sk-container-id-6 div.sk-parallel-item:last-child::after {\n",
       "  align-self: flex-start;\n",
       "  width: 50%;\n",
       "}\n",
       "\n",
       "#sk-container-id-6 div.sk-parallel-item:only-child::after {\n",
       "  width: 0;\n",
       "}\n",
       "\n",
       "/* Serial-specific style estimator block */\n",
       "\n",
       "#sk-container-id-6 div.sk-serial {\n",
       "  display: flex;\n",
       "  flex-direction: column;\n",
       "  align-items: center;\n",
       "  background-color: var(--sklearn-color-background);\n",
       "  padding-right: 1em;\n",
       "  padding-left: 1em;\n",
       "}\n",
       "\n",
       "\n",
       "/* Toggleable style: style used for estimator/Pipeline/ColumnTransformer box that is\n",
       "clickable and can be expanded/collapsed.\n",
       "- Pipeline and ColumnTransformer use this feature and define the default style\n",
       "- Estimators will overwrite some part of the style using the `sk-estimator` class\n",
       "*/\n",
       "\n",
       "/* Pipeline and ColumnTransformer style (default) */\n",
       "\n",
       "#sk-container-id-6 div.sk-toggleable {\n",
       "  /* Default theme specific background. It is overwritten whether we have a\n",
       "  specific estimator or a Pipeline/ColumnTransformer */\n",
       "  background-color: var(--sklearn-color-background);\n",
       "}\n",
       "\n",
       "/* Toggleable label */\n",
       "#sk-container-id-6 label.sk-toggleable__label {\n",
       "  cursor: pointer;\n",
       "  display: block;\n",
       "  width: 100%;\n",
       "  margin-bottom: 0;\n",
       "  padding: 0.5em;\n",
       "  box-sizing: border-box;\n",
       "  text-align: center;\n",
       "}\n",
       "\n",
       "#sk-container-id-6 label.sk-toggleable__label-arrow:before {\n",
       "  /* Arrow on the left of the label */\n",
       "  content: \"▸\";\n",
       "  float: left;\n",
       "  margin-right: 0.25em;\n",
       "  color: var(--sklearn-color-icon);\n",
       "}\n",
       "\n",
       "#sk-container-id-6 label.sk-toggleable__label-arrow:hover:before {\n",
       "  color: var(--sklearn-color-text);\n",
       "}\n",
       "\n",
       "/* Toggleable content - dropdown */\n",
       "\n",
       "#sk-container-id-6 div.sk-toggleable__content {\n",
       "  max-height: 0;\n",
       "  max-width: 0;\n",
       "  overflow: hidden;\n",
       "  text-align: left;\n",
       "  /* unfitted */\n",
       "  background-color: var(--sklearn-color-unfitted-level-0);\n",
       "}\n",
       "\n",
       "#sk-container-id-6 div.sk-toggleable__content.fitted {\n",
       "  /* fitted */\n",
       "  background-color: var(--sklearn-color-fitted-level-0);\n",
       "}\n",
       "\n",
       "#sk-container-id-6 div.sk-toggleable__content pre {\n",
       "  margin: 0.2em;\n",
       "  border-radius: 0.25em;\n",
       "  color: var(--sklearn-color-text);\n",
       "  /* unfitted */\n",
       "  background-color: var(--sklearn-color-unfitted-level-0);\n",
       "}\n",
       "\n",
       "#sk-container-id-6 div.sk-toggleable__content.fitted pre {\n",
       "  /* unfitted */\n",
       "  background-color: var(--sklearn-color-fitted-level-0);\n",
       "}\n",
       "\n",
       "#sk-container-id-6 input.sk-toggleable__control:checked~div.sk-toggleable__content {\n",
       "  /* Expand drop-down */\n",
       "  max-height: 200px;\n",
       "  max-width: 100%;\n",
       "  overflow: auto;\n",
       "}\n",
       "\n",
       "#sk-container-id-6 input.sk-toggleable__control:checked~label.sk-toggleable__label-arrow:before {\n",
       "  content: \"▾\";\n",
       "}\n",
       "\n",
       "/* Pipeline/ColumnTransformer-specific style */\n",
       "\n",
       "#sk-container-id-6 div.sk-label input.sk-toggleable__control:checked~label.sk-toggleable__label {\n",
       "  color: var(--sklearn-color-text);\n",
       "  background-color: var(--sklearn-color-unfitted-level-2);\n",
       "}\n",
       "\n",
       "#sk-container-id-6 div.sk-label.fitted input.sk-toggleable__control:checked~label.sk-toggleable__label {\n",
       "  background-color: var(--sklearn-color-fitted-level-2);\n",
       "}\n",
       "\n",
       "/* Estimator-specific style */\n",
       "\n",
       "/* Colorize estimator box */\n",
       "#sk-container-id-6 div.sk-estimator input.sk-toggleable__control:checked~label.sk-toggleable__label {\n",
       "  /* unfitted */\n",
       "  background-color: var(--sklearn-color-unfitted-level-2);\n",
       "}\n",
       "\n",
       "#sk-container-id-6 div.sk-estimator.fitted input.sk-toggleable__control:checked~label.sk-toggleable__label {\n",
       "  /* fitted */\n",
       "  background-color: var(--sklearn-color-fitted-level-2);\n",
       "}\n",
       "\n",
       "#sk-container-id-6 div.sk-label label.sk-toggleable__label,\n",
       "#sk-container-id-6 div.sk-label label {\n",
       "  /* The background is the default theme color */\n",
       "  color: var(--sklearn-color-text-on-default-background);\n",
       "}\n",
       "\n",
       "/* On hover, darken the color of the background */\n",
       "#sk-container-id-6 div.sk-label:hover label.sk-toggleable__label {\n",
       "  color: var(--sklearn-color-text);\n",
       "  background-color: var(--sklearn-color-unfitted-level-2);\n",
       "}\n",
       "\n",
       "/* Label box, darken color on hover, fitted */\n",
       "#sk-container-id-6 div.sk-label.fitted:hover label.sk-toggleable__label.fitted {\n",
       "  color: var(--sklearn-color-text);\n",
       "  background-color: var(--sklearn-color-fitted-level-2);\n",
       "}\n",
       "\n",
       "/* Estimator label */\n",
       "\n",
       "#sk-container-id-6 div.sk-label label {\n",
       "  font-family: monospace;\n",
       "  font-weight: bold;\n",
       "  display: inline-block;\n",
       "  line-height: 1.2em;\n",
       "}\n",
       "\n",
       "#sk-container-id-6 div.sk-label-container {\n",
       "  text-align: center;\n",
       "}\n",
       "\n",
       "/* Estimator-specific */\n",
       "#sk-container-id-6 div.sk-estimator {\n",
       "  font-family: monospace;\n",
       "  border: 1px dotted var(--sklearn-color-border-box);\n",
       "  border-radius: 0.25em;\n",
       "  box-sizing: border-box;\n",
       "  margin-bottom: 0.5em;\n",
       "  /* unfitted */\n",
       "  background-color: var(--sklearn-color-unfitted-level-0);\n",
       "}\n",
       "\n",
       "#sk-container-id-6 div.sk-estimator.fitted {\n",
       "  /* fitted */\n",
       "  background-color: var(--sklearn-color-fitted-level-0);\n",
       "}\n",
       "\n",
       "/* on hover */\n",
       "#sk-container-id-6 div.sk-estimator:hover {\n",
       "  /* unfitted */\n",
       "  background-color: var(--sklearn-color-unfitted-level-2);\n",
       "}\n",
       "\n",
       "#sk-container-id-6 div.sk-estimator.fitted:hover {\n",
       "  /* fitted */\n",
       "  background-color: var(--sklearn-color-fitted-level-2);\n",
       "}\n",
       "\n",
       "/* Specification for estimator info (e.g. \"i\" and \"?\") */\n",
       "\n",
       "/* Common style for \"i\" and \"?\" */\n",
       "\n",
       ".sk-estimator-doc-link,\n",
       "a:link.sk-estimator-doc-link,\n",
       "a:visited.sk-estimator-doc-link {\n",
       "  float: right;\n",
       "  font-size: smaller;\n",
       "  line-height: 1em;\n",
       "  font-family: monospace;\n",
       "  background-color: var(--sklearn-color-background);\n",
       "  border-radius: 1em;\n",
       "  height: 1em;\n",
       "  width: 1em;\n",
       "  text-decoration: none !important;\n",
       "  margin-left: 1ex;\n",
       "  /* unfitted */\n",
       "  border: var(--sklearn-color-unfitted-level-1) 1pt solid;\n",
       "  color: var(--sklearn-color-unfitted-level-1);\n",
       "}\n",
       "\n",
       ".sk-estimator-doc-link.fitted,\n",
       "a:link.sk-estimator-doc-link.fitted,\n",
       "a:visited.sk-estimator-doc-link.fitted {\n",
       "  /* fitted */\n",
       "  border: var(--sklearn-color-fitted-level-1) 1pt solid;\n",
       "  color: var(--sklearn-color-fitted-level-1);\n",
       "}\n",
       "\n",
       "/* On hover */\n",
       "div.sk-estimator:hover .sk-estimator-doc-link:hover,\n",
       ".sk-estimator-doc-link:hover,\n",
       "div.sk-label-container:hover .sk-estimator-doc-link:hover,\n",
       ".sk-estimator-doc-link:hover {\n",
       "  /* unfitted */\n",
       "  background-color: var(--sklearn-color-unfitted-level-3);\n",
       "  color: var(--sklearn-color-background);\n",
       "  text-decoration: none;\n",
       "}\n",
       "\n",
       "div.sk-estimator.fitted:hover .sk-estimator-doc-link.fitted:hover,\n",
       ".sk-estimator-doc-link.fitted:hover,\n",
       "div.sk-label-container:hover .sk-estimator-doc-link.fitted:hover,\n",
       ".sk-estimator-doc-link.fitted:hover {\n",
       "  /* fitted */\n",
       "  background-color: var(--sklearn-color-fitted-level-3);\n",
       "  color: var(--sklearn-color-background);\n",
       "  text-decoration: none;\n",
       "}\n",
       "\n",
       "/* Span, style for the box shown on hovering the info icon */\n",
       ".sk-estimator-doc-link span {\n",
       "  display: none;\n",
       "  z-index: 9999;\n",
       "  position: relative;\n",
       "  font-weight: normal;\n",
       "  right: .2ex;\n",
       "  padding: .5ex;\n",
       "  margin: .5ex;\n",
       "  width: min-content;\n",
       "  min-width: 20ex;\n",
       "  max-width: 50ex;\n",
       "  color: var(--sklearn-color-text);\n",
       "  box-shadow: 2pt 2pt 4pt #999;\n",
       "  /* unfitted */\n",
       "  background: var(--sklearn-color-unfitted-level-0);\n",
       "  border: .5pt solid var(--sklearn-color-unfitted-level-3);\n",
       "}\n",
       "\n",
       ".sk-estimator-doc-link.fitted span {\n",
       "  /* fitted */\n",
       "  background: var(--sklearn-color-fitted-level-0);\n",
       "  border: var(--sklearn-color-fitted-level-3);\n",
       "}\n",
       "\n",
       ".sk-estimator-doc-link:hover span {\n",
       "  display: block;\n",
       "}\n",
       "\n",
       "/* \"?\"-specific style due to the `<a>` HTML tag */\n",
       "\n",
       "#sk-container-id-6 a.estimator_doc_link {\n",
       "  float: right;\n",
       "  font-size: 1rem;\n",
       "  line-height: 1em;\n",
       "  font-family: monospace;\n",
       "  background-color: var(--sklearn-color-background);\n",
       "  border-radius: 1rem;\n",
       "  height: 1rem;\n",
       "  width: 1rem;\n",
       "  text-decoration: none;\n",
       "  /* unfitted */\n",
       "  color: var(--sklearn-color-unfitted-level-1);\n",
       "  border: var(--sklearn-color-unfitted-level-1) 1pt solid;\n",
       "}\n",
       "\n",
       "#sk-container-id-6 a.estimator_doc_link.fitted {\n",
       "  /* fitted */\n",
       "  border: var(--sklearn-color-fitted-level-1) 1pt solid;\n",
       "  color: var(--sklearn-color-fitted-level-1);\n",
       "}\n",
       "\n",
       "/* On hover */\n",
       "#sk-container-id-6 a.estimator_doc_link:hover {\n",
       "  /* unfitted */\n",
       "  background-color: var(--sklearn-color-unfitted-level-3);\n",
       "  color: var(--sklearn-color-background);\n",
       "  text-decoration: none;\n",
       "}\n",
       "\n",
       "#sk-container-id-6 a.estimator_doc_link.fitted:hover {\n",
       "  /* fitted */\n",
       "  background-color: var(--sklearn-color-fitted-level-3);\n",
       "}\n",
       "</style><div id=\"sk-container-id-6\" class=\"sk-top-container\"><div class=\"sk-text-repr-fallback\"><pre>KMeans(n_clusters=10, random_state=0)</pre><b>In a Jupyter environment, please rerun this cell to show the HTML representation or trust the notebook. <br />On GitHub, the HTML representation is unable to render, please try loading this page with nbviewer.org.</b></div><div class=\"sk-container\" hidden><div class=\"sk-item\"><div class=\"sk-estimator fitted sk-toggleable\"><input class=\"sk-toggleable__control sk-hidden--visually\" id=\"sk-estimator-id-6\" type=\"checkbox\" checked><label for=\"sk-estimator-id-6\" class=\"sk-toggleable__label fitted sk-toggleable__label-arrow fitted\">&nbsp;&nbsp;KMeans<a class=\"sk-estimator-doc-link fitted\" rel=\"noreferrer\" target=\"_blank\" href=\"https://scikit-learn.org/1.4/modules/generated/sklearn.cluster.KMeans.html\">?<span>Documentation for KMeans</span></a><span class=\"sk-estimator-doc-link fitted\">i<span>Fitted</span></span></label><div class=\"sk-toggleable__content fitted\"><pre>KMeans(n_clusters=10, random_state=0)</pre></div> </div></div></div></div>"
      ],
      "text/plain": [
       "KMeans(n_clusters=10, random_state=0)"
      ]
     },
     "execution_count": 117,
     "metadata": {},
     "output_type": "execute_result"
    }
   ],
   "source": [
    "kmeans = KMeans(n_clusters=10)\n",
    "kmeans.fit(x_train)"
   ]
  },
  {
   "cell_type": "code",
   "execution_count": 103,
   "id": "dc04c7be",
   "metadata": {},
   "outputs": [
    {
     "data": {
      "text/plain": [
       "array([9, 7, 5, ..., 9, 0, 8])"
      ]
     },
     "execution_count": 103,
     "metadata": {},
     "output_type": "execute_result"
    }
   ],
   "source": [
    "kmeans.labels_"
   ]
  },
  {
   "cell_type": "code",
   "execution_count": 106,
   "id": "8656e48d",
   "metadata": {},
   "outputs": [
    {
     "data": {
      "text/plain": [
       "class\n",
       "6    4591\n",
       "0     237\n",
       "2     161\n",
       "5     140\n",
       "4     127\n",
       "3      61\n",
       "8      57\n",
       "1      11\n",
       "9       8\n",
       "7       2\n",
       "Name: count, dtype: int64"
      ]
     },
     "execution_count": 106,
     "metadata": {},
     "output_type": "execute_result"
    }
   ],
   "source": [
    "y_train[kmeans.labels_ == 0].value_counts()"
   ]
  },
  {
   "cell_type": "code",
   "execution_count": 107,
   "id": "159e298f",
   "metadata": {},
   "outputs": [
    {
     "data": {
      "text/plain": [
       "class\n",
       "7    2824\n",
       "9    1707\n",
       "4    1536\n",
       "5     265\n",
       "8     230\n",
       "2      61\n",
       "3      32\n",
       "0      27\n",
       "1       7\n",
       "6       1\n",
       "Name: count, dtype: int64"
      ]
     },
     "execution_count": 107,
     "metadata": {},
     "output_type": "execute_result"
    }
   ],
   "source": [
    "y_train[kmeans.labels_ == 1].value_counts()"
   ]
  },
  {
   "cell_type": "code",
   "execution_count": 108,
   "id": "0d373c73",
   "metadata": {},
   "outputs": [
    {
     "data": {
      "text/plain": [
       "class\n",
       "9    2473\n",
       "7    2385\n",
       "4    1632\n",
       "5     312\n",
       "8     214\n",
       "3     161\n",
       "2      37\n",
       "0      14\n",
       "1       9\n",
       "6       1\n",
       "Name: count, dtype: int64"
      ]
     },
     "execution_count": 108,
     "metadata": {},
     "output_type": "execute_result"
    }
   ],
   "source": [
    "y_train[kmeans.labels_ == 2].value_counts()"
   ]
  },
  {
   "cell_type": "code",
   "execution_count": 109,
   "id": "cb081f97",
   "metadata": {},
   "outputs": [
    {
     "data": {
      "text/plain": [
       "class\n",
       "1    3713\n",
       "3     373\n",
       "2     323\n",
       "8     276\n",
       "6     234\n",
       "7     223\n",
       "9     139\n",
       "5     119\n",
       "4      98\n",
       "0       0\n",
       "Name: count, dtype: int64"
      ]
     },
     "execution_count": 109,
     "metadata": {},
     "output_type": "execute_result"
    }
   ],
   "source": [
    "y_train[kmeans.labels_ == 3].value_counts()"
   ]
  },
  {
   "cell_type": "code",
   "execution_count": 110,
   "id": "6ad837c4",
   "metadata": {},
   "outputs": [
    {
     "data": {
      "text/plain": [
       "class\n",
       "2    4192\n",
       "3     209\n",
       "6      80\n",
       "8      43\n",
       "0      39\n",
       "7      30\n",
       "4      14\n",
       "5      14\n",
       "1       9\n",
       "9       5\n",
       "Name: count, dtype: int64"
      ]
     },
     "execution_count": 110,
     "metadata": {},
     "output_type": "execute_result"
    }
   ],
   "source": [
    "y_train[kmeans.labels_ == 4].value_counts()"
   ]
  },
  {
   "cell_type": "code",
   "execution_count": 111,
   "id": "e76073e9",
   "metadata": {},
   "outputs": [
    {
     "data": {
      "text/plain": [
       "class\n",
       "4    2188\n",
       "9    1382\n",
       "6     592\n",
       "7     546\n",
       "2     230\n",
       "5     186\n",
       "8     134\n",
       "0      89\n",
       "3      65\n",
       "1       4\n",
       "Name: count, dtype: int64"
      ]
     },
     "execution_count": 111,
     "metadata": {},
     "output_type": "execute_result"
    }
   ],
   "source": [
    "y_train[kmeans.labels_ == 5].value_counts()"
   ]
  },
  {
   "cell_type": "code",
   "execution_count": 112,
   "id": "18a8bc00",
   "metadata": {},
   "outputs": [
    {
     "data": {
      "text/plain": [
       "class\n",
       "3    3888\n",
       "5    1782\n",
       "8    1372\n",
       "2     391\n",
       "0     233\n",
       "9      85\n",
       "6      31\n",
       "1       6\n",
       "7       3\n",
       "4       0\n",
       "Name: count, dtype: int64"
      ]
     },
     "execution_count": 112,
     "metadata": {},
     "output_type": "execute_result"
    }
   ],
   "source": [
    "y_train[kmeans.labels_ == 6].value_counts()"
   ]
  },
  {
   "cell_type": "code",
   "execution_count": 113,
   "id": "254a26b2",
   "metadata": {},
   "outputs": [
    {
     "data": {
      "text/plain": [
       "class\n",
       "0    4676\n",
       "6      73\n",
       "5      63\n",
       "2      55\n",
       "3      33\n",
       "8      29\n",
       "9      29\n",
       "7      13\n",
       "4       4\n",
       "1       0\n",
       "Name: count, dtype: int64"
      ]
     },
     "execution_count": 113,
     "metadata": {},
     "output_type": "execute_result"
    }
   ],
   "source": [
    "y_train[kmeans.labels_ == 7].value_counts()"
   ]
  },
  {
   "cell_type": "markdown",
   "id": "7c9d27f9",
   "metadata": {},
   "source": [
    "### 10000"
   ]
  },
  {
   "cell_type": "code",
   "execution_count": 114,
   "id": "1b11870e",
   "metadata": {},
   "outputs": [
    {
     "data": {
      "text/plain": [
       "class\n",
       "1    2977\n",
       "5     712\n",
       "8     392\n",
       "2     369\n",
       "7     236\n",
       "4     231\n",
       "6     190\n",
       "3      84\n",
       "9      77\n",
       "0      29\n",
       "Name: count, dtype: int64"
      ]
     },
     "execution_count": 114,
     "metadata": {},
     "output_type": "execute_result"
    }
   ],
   "source": [
    "y_train[kmeans.labels_ == 8].value_counts()"
   ]
  },
  {
   "cell_type": "code",
   "execution_count": 115,
   "id": "2d30e51a",
   "metadata": {},
   "outputs": [
    {
     "data": {
      "text/plain": [
       "class\n",
       "8    3104\n",
       "5    1828\n",
       "3    1225\n",
       "0     579\n",
       "2     139\n",
       "6     125\n",
       "9      44\n",
       "4      12\n",
       "1       6\n",
       "7       3\n",
       "Name: count, dtype: int64"
      ]
     },
     "execution_count": 115,
     "metadata": {},
     "output_type": "execute_result"
    }
   ],
   "source": [
    "y_train[kmeans.labels_ == 9].value_counts()"
   ]
  },
  {
   "cell_type": "code",
   "execution_count": 118,
   "id": "52d6ee81",
   "metadata": {},
   "outputs": [
    {
     "data": {
      "text/plain": [
       "class\n",
       "1    0.112367\n",
       "7    0.104417\n",
       "3    0.102183\n",
       "2    0.099300\n",
       "9    0.099150\n",
       "0    0.098717\n",
       "6    0.098633\n",
       "8    0.097517\n",
       "4    0.097367\n",
       "5    0.090350\n",
       "Name: count, dtype: float64"
      ]
     },
     "execution_count": 118,
     "metadata": {},
     "output_type": "execute_result"
    }
   ],
   "source": [
    "y_train.value_counts() / 60000"
   ]
  },
  {
   "cell_type": "markdown",
   "id": "0880e578",
   "metadata": {},
   "source": [
    "1. Manually cluster the datapoints by n = {amount of labels} and see which labels are often clustered correclty and which labels might get clustered with others\n",
    "\n",
    "2. Retrieve ratio of each label in the entire original dataset:\n",
    "    for each label: ratio of label = occurence ob label / total number of datapoints\n",
    "3. Calculate number of data points for each label needed in M, according to the ratio from step (2)\n",
    "    for each label: number of datapoints = ratio of label * M\n",
    "4. For the labels that mostly get clustered with its own in step 1, reduce the amount by in M by half, add those points to the labels that mostly get clustered together\n",
    "\n",
    "5. For each label that mostly clustered with itself, perform k means clustering on data points of the label with k = number of datapoints going to M and return the points closest to the centroid\n",
    "\n",
    "6. For labels that get clustered together, perform k means clustering on datapoints of those labels with k = number of datapoints going to M and return the points closest to the centroid\n",
    "\n",
    "7. combine datapoints from step 5 and 6"
   ]
  },
  {
   "cell_type": "code",
   "execution_count": 17,
   "id": "75c932a9",
   "metadata": {},
   "outputs": [],
   "source": [
    "def kmeans_subset_selection(data, labels, M, manual_clusters, adjustment_factor=0.5):\n",
    "    # Step 2: Calculate the ratio of each label in the dataset\n",
    "    unique_labels, counts = np.unique(labels, return_counts=True)\n",
    "    total_points = len(labels)\n",
    "    label_ratios = {label: count / total_points for label, count in zip(unique_labels, counts)}\n",
    "    training = data.copy()\n",
    "    training['labels'] = labels\n",
    "    # Step 3: Calculate number of data points for each label in M\n",
    "    label_counts = {label: int(ratio * M) for label, ratio in label_ratios.items()}\n",
    "    # Calculate total reduction from self_clustered labels\n",
    "    total_reduction = 0\n",
    "    for label in manual_clusters['self_clustered']:\n",
    "        original_count = label_counts[label]\n",
    "        reduced_count = int(original_count * adjustment_factor)\n",
    "        total_reduction += original_count - reduced_count\n",
    "        label_counts[label] = reduced_count\n",
    "\n",
    "    # Evenly distribute the reduced points to combined_clustered labels\n",
    "    num_combined_labels = len([item for sublist in manual_clusters['combined_clustered'] for item in sublist])\n",
    "    extra_points_per_label = total_reduction // num_combined_labels\n",
    "    to_add = 0\n",
    "    for clustered in manual_clusters['combined_clustered']:\n",
    "        for label in clustered:\n",
    "            label_counts[label] += extra_points_per_label\n",
    "    # Handle any remainder by distributing one extra point to each label, until exhausted\n",
    "    remainder = total_reduction % num_combined_labels\n",
    "    for i in range(remainder):\n",
    "        label_counts[manual_clusters['combined_clustered'][0][0]] += 1\n",
    "    # Step 5 and 6: Perform k-means clustering for each label\n",
    "    prototypes = pd.DataFrame()\n",
    "\n",
    "    # For labels that cluster with themselves\n",
    "    for label in manual_clusters['self_clustered']:\n",
    "        label_data = training[np.isin(labels, label)]\n",
    "        n1 = label_counts[label]# Assuming the count is the same for all labels in the cluster\n",
    "        sampled_indices = label_data.index.to_series().sample(n=int(n1*0.9))\n",
    "        prototypes = pd.concat([prototypes, label_data.loc[sampled_indices]], axis =0)\n",
    "        k = 10\n",
    "        if k > 0:\n",
    "            kmeans = KMeans(n_clusters=k)\n",
    "            kmeans.fit(label_data.iloc[:, :784])\n",
    "            klabels = kmeans.labels_\n",
    "            for i in range(k):\n",
    "                cluster_points = label_data[klabels == i]\n",
    "                distances = np.linalg.norm(cluster_points.iloc[:, :784] - kmeans.cluster_centers_[i], axis = 1)\n",
    "                closest_indices = np.argsort(distances)[:n1//100]\n",
    "                prototypes = pd.concat([prototypes, cluster_points.iloc[closest_indices]], axis =0)\n",
    "        else:\n",
    "            print('something wrong')\n",
    "    # For labels that get clustered together\n",
    "    for cluster in manual_clusters['combined_clustered']:\n",
    "        combined_data = training[np.isin(labels, cluster)]\n",
    "        k = sum(label_counts[label] for label in cluster)\n",
    "        if k > 0:\n",
    "            kmeans = KMeans(n_clusters=k)\n",
    "            kmeans.fit(combined_data.iloc[:, :784])\n",
    "            klabels = kmeans.labels_\n",
    "            for i in range(k):\n",
    "                cluster_points = combined_data[klabels == i]\n",
    "                distances = np.linalg.norm(cluster_points.iloc[:, :784] - kmeans.cluster_centers_[i], axis = 1)\n",
    "                closest_indices = np.argsort(distances)[:1]\n",
    "                prototypes = pd.concat([prototypes, cluster_points.iloc[closest_indices]], axis =0)\n",
    "        else:\n",
    "            print('something wrong')\n",
    "\n",
    "    # Step 7: Combine data points\n",
    "    return prototypes.iloc[:,:784], prototypes['labels']"
   ]
  },
  {
   "cell_type": "code",
   "execution_count": 22,
   "id": "7f0624d4",
   "metadata": {},
   "outputs": [],
   "source": [
    "a, b = kmeans_subset_selection(x_train, y_train, 10000,{'self_clustered': ['1','2','6','0'], 'combined_clustered': [['7', '9', '4'], ['3','5','8']]})"
   ]
  },
  {
   "cell_type": "code",
   "execution_count": 23,
   "id": "5793c884",
   "metadata": {},
   "outputs": [
    {
     "data": {
      "text/html": [
       "<div>\n",
       "<style scoped>\n",
       "    .dataframe tbody tr th:only-of-type {\n",
       "        vertical-align: middle;\n",
       "    }\n",
       "\n",
       "    .dataframe tbody tr th {\n",
       "        vertical-align: top;\n",
       "    }\n",
       "\n",
       "    .dataframe thead th {\n",
       "        text-align: right;\n",
       "    }\n",
       "</style>\n",
       "<table border=\"1\" class=\"dataframe\">\n",
       "  <thead>\n",
       "    <tr style=\"text-align: right;\">\n",
       "      <th></th>\n",
       "      <th>pixel1</th>\n",
       "      <th>pixel2</th>\n",
       "      <th>pixel3</th>\n",
       "      <th>pixel4</th>\n",
       "      <th>pixel5</th>\n",
       "      <th>pixel6</th>\n",
       "      <th>pixel7</th>\n",
       "      <th>pixel8</th>\n",
       "      <th>pixel9</th>\n",
       "      <th>pixel10</th>\n",
       "      <th>...</th>\n",
       "      <th>pixel775</th>\n",
       "      <th>pixel776</th>\n",
       "      <th>pixel777</th>\n",
       "      <th>pixel778</th>\n",
       "      <th>pixel779</th>\n",
       "      <th>pixel780</th>\n",
       "      <th>pixel781</th>\n",
       "      <th>pixel782</th>\n",
       "      <th>pixel783</th>\n",
       "      <th>pixel784</th>\n",
       "    </tr>\n",
       "  </thead>\n",
       "  <tbody>\n",
       "    <tr>\n",
       "      <th>28894</th>\n",
       "      <td>0</td>\n",
       "      <td>0</td>\n",
       "      <td>0</td>\n",
       "      <td>0</td>\n",
       "      <td>0</td>\n",
       "      <td>0</td>\n",
       "      <td>0</td>\n",
       "      <td>0</td>\n",
       "      <td>0</td>\n",
       "      <td>0</td>\n",
       "      <td>...</td>\n",
       "      <td>0</td>\n",
       "      <td>0</td>\n",
       "      <td>0</td>\n",
       "      <td>0</td>\n",
       "      <td>0</td>\n",
       "      <td>0</td>\n",
       "      <td>0</td>\n",
       "      <td>0</td>\n",
       "      <td>0</td>\n",
       "      <td>0</td>\n",
       "    </tr>\n",
       "    <tr>\n",
       "      <th>23647</th>\n",
       "      <td>0</td>\n",
       "      <td>0</td>\n",
       "      <td>0</td>\n",
       "      <td>0</td>\n",
       "      <td>0</td>\n",
       "      <td>0</td>\n",
       "      <td>0</td>\n",
       "      <td>0</td>\n",
       "      <td>0</td>\n",
       "      <td>0</td>\n",
       "      <td>...</td>\n",
       "      <td>0</td>\n",
       "      <td>0</td>\n",
       "      <td>0</td>\n",
       "      <td>0</td>\n",
       "      <td>0</td>\n",
       "      <td>0</td>\n",
       "      <td>0</td>\n",
       "      <td>0</td>\n",
       "      <td>0</td>\n",
       "      <td>0</td>\n",
       "    </tr>\n",
       "    <tr>\n",
       "      <th>19837</th>\n",
       "      <td>0</td>\n",
       "      <td>0</td>\n",
       "      <td>0</td>\n",
       "      <td>0</td>\n",
       "      <td>0</td>\n",
       "      <td>0</td>\n",
       "      <td>0</td>\n",
       "      <td>0</td>\n",
       "      <td>0</td>\n",
       "      <td>0</td>\n",
       "      <td>...</td>\n",
       "      <td>0</td>\n",
       "      <td>0</td>\n",
       "      <td>0</td>\n",
       "      <td>0</td>\n",
       "      <td>0</td>\n",
       "      <td>0</td>\n",
       "      <td>0</td>\n",
       "      <td>0</td>\n",
       "      <td>0</td>\n",
       "      <td>0</td>\n",
       "    </tr>\n",
       "    <tr>\n",
       "      <th>34222</th>\n",
       "      <td>0</td>\n",
       "      <td>0</td>\n",
       "      <td>0</td>\n",
       "      <td>0</td>\n",
       "      <td>0</td>\n",
       "      <td>0</td>\n",
       "      <td>0</td>\n",
       "      <td>0</td>\n",
       "      <td>0</td>\n",
       "      <td>0</td>\n",
       "      <td>...</td>\n",
       "      <td>0</td>\n",
       "      <td>0</td>\n",
       "      <td>0</td>\n",
       "      <td>0</td>\n",
       "      <td>0</td>\n",
       "      <td>0</td>\n",
       "      <td>0</td>\n",
       "      <td>0</td>\n",
       "      <td>0</td>\n",
       "      <td>0</td>\n",
       "    </tr>\n",
       "    <tr>\n",
       "      <th>35345</th>\n",
       "      <td>0</td>\n",
       "      <td>0</td>\n",
       "      <td>0</td>\n",
       "      <td>0</td>\n",
       "      <td>0</td>\n",
       "      <td>0</td>\n",
       "      <td>0</td>\n",
       "      <td>0</td>\n",
       "      <td>0</td>\n",
       "      <td>0</td>\n",
       "      <td>...</td>\n",
       "      <td>0</td>\n",
       "      <td>0</td>\n",
       "      <td>0</td>\n",
       "      <td>0</td>\n",
       "      <td>0</td>\n",
       "      <td>0</td>\n",
       "      <td>0</td>\n",
       "      <td>0</td>\n",
       "      <td>0</td>\n",
       "      <td>0</td>\n",
       "    </tr>\n",
       "    <tr>\n",
       "      <th>...</th>\n",
       "      <td>...</td>\n",
       "      <td>...</td>\n",
       "      <td>...</td>\n",
       "      <td>...</td>\n",
       "      <td>...</td>\n",
       "      <td>...</td>\n",
       "      <td>...</td>\n",
       "      <td>...</td>\n",
       "      <td>...</td>\n",
       "      <td>...</td>\n",
       "      <td>...</td>\n",
       "      <td>...</td>\n",
       "      <td>...</td>\n",
       "      <td>...</td>\n",
       "      <td>...</td>\n",
       "      <td>...</td>\n",
       "      <td>...</td>\n",
       "      <td>...</td>\n",
       "      <td>...</td>\n",
       "      <td>...</td>\n",
       "      <td>...</td>\n",
       "    </tr>\n",
       "    <tr>\n",
       "      <th>27366</th>\n",
       "      <td>0</td>\n",
       "      <td>0</td>\n",
       "      <td>0</td>\n",
       "      <td>0</td>\n",
       "      <td>0</td>\n",
       "      <td>0</td>\n",
       "      <td>0</td>\n",
       "      <td>0</td>\n",
       "      <td>0</td>\n",
       "      <td>0</td>\n",
       "      <td>...</td>\n",
       "      <td>0</td>\n",
       "      <td>0</td>\n",
       "      <td>0</td>\n",
       "      <td>0</td>\n",
       "      <td>0</td>\n",
       "      <td>0</td>\n",
       "      <td>0</td>\n",
       "      <td>0</td>\n",
       "      <td>0</td>\n",
       "      <td>0</td>\n",
       "    </tr>\n",
       "    <tr>\n",
       "      <th>27994</th>\n",
       "      <td>0</td>\n",
       "      <td>0</td>\n",
       "      <td>0</td>\n",
       "      <td>0</td>\n",
       "      <td>0</td>\n",
       "      <td>0</td>\n",
       "      <td>0</td>\n",
       "      <td>0</td>\n",
       "      <td>0</td>\n",
       "      <td>0</td>\n",
       "      <td>...</td>\n",
       "      <td>0</td>\n",
       "      <td>0</td>\n",
       "      <td>0</td>\n",
       "      <td>0</td>\n",
       "      <td>0</td>\n",
       "      <td>0</td>\n",
       "      <td>0</td>\n",
       "      <td>0</td>\n",
       "      <td>0</td>\n",
       "      <td>0</td>\n",
       "    </tr>\n",
       "    <tr>\n",
       "      <th>13543</th>\n",
       "      <td>0</td>\n",
       "      <td>0</td>\n",
       "      <td>0</td>\n",
       "      <td>0</td>\n",
       "      <td>0</td>\n",
       "      <td>0</td>\n",
       "      <td>0</td>\n",
       "      <td>0</td>\n",
       "      <td>0</td>\n",
       "      <td>0</td>\n",
       "      <td>...</td>\n",
       "      <td>0</td>\n",
       "      <td>0</td>\n",
       "      <td>0</td>\n",
       "      <td>0</td>\n",
       "      <td>0</td>\n",
       "      <td>0</td>\n",
       "      <td>0</td>\n",
       "      <td>0</td>\n",
       "      <td>0</td>\n",
       "      <td>0</td>\n",
       "    </tr>\n",
       "    <tr>\n",
       "      <th>5332</th>\n",
       "      <td>0</td>\n",
       "      <td>0</td>\n",
       "      <td>0</td>\n",
       "      <td>0</td>\n",
       "      <td>0</td>\n",
       "      <td>0</td>\n",
       "      <td>0</td>\n",
       "      <td>0</td>\n",
       "      <td>0</td>\n",
       "      <td>0</td>\n",
       "      <td>...</td>\n",
       "      <td>0</td>\n",
       "      <td>0</td>\n",
       "      <td>0</td>\n",
       "      <td>0</td>\n",
       "      <td>0</td>\n",
       "      <td>0</td>\n",
       "      <td>0</td>\n",
       "      <td>0</td>\n",
       "      <td>0</td>\n",
       "      <td>0</td>\n",
       "    </tr>\n",
       "    <tr>\n",
       "      <th>52871</th>\n",
       "      <td>0</td>\n",
       "      <td>0</td>\n",
       "      <td>0</td>\n",
       "      <td>0</td>\n",
       "      <td>0</td>\n",
       "      <td>0</td>\n",
       "      <td>0</td>\n",
       "      <td>0</td>\n",
       "      <td>0</td>\n",
       "      <td>0</td>\n",
       "      <td>...</td>\n",
       "      <td>0</td>\n",
       "      <td>0</td>\n",
       "      <td>0</td>\n",
       "      <td>0</td>\n",
       "      <td>0</td>\n",
       "      <td>0</td>\n",
       "      <td>0</td>\n",
       "      <td>0</td>\n",
       "      <td>0</td>\n",
       "      <td>0</td>\n",
       "    </tr>\n",
       "  </tbody>\n",
       "</table>\n",
       "<p>9959 rows × 784 columns</p>\n",
       "</div>"
      ],
      "text/plain": [
       "       pixel1  pixel2  pixel3  pixel4  pixel5  pixel6  pixel7  pixel8  pixel9  \\\n",
       "28894       0       0       0       0       0       0       0       0       0   \n",
       "23647       0       0       0       0       0       0       0       0       0   \n",
       "19837       0       0       0       0       0       0       0       0       0   \n",
       "34222       0       0       0       0       0       0       0       0       0   \n",
       "35345       0       0       0       0       0       0       0       0       0   \n",
       "...       ...     ...     ...     ...     ...     ...     ...     ...     ...   \n",
       "27366       0       0       0       0       0       0       0       0       0   \n",
       "27994       0       0       0       0       0       0       0       0       0   \n",
       "13543       0       0       0       0       0       0       0       0       0   \n",
       "5332        0       0       0       0       0       0       0       0       0   \n",
       "52871       0       0       0       0       0       0       0       0       0   \n",
       "\n",
       "       pixel10  ...  pixel775  pixel776  pixel777  pixel778  pixel779  \\\n",
       "28894        0  ...         0         0         0         0         0   \n",
       "23647        0  ...         0         0         0         0         0   \n",
       "19837        0  ...         0         0         0         0         0   \n",
       "34222        0  ...         0         0         0         0         0   \n",
       "35345        0  ...         0         0         0         0         0   \n",
       "...        ...  ...       ...       ...       ...       ...       ...   \n",
       "27366        0  ...         0         0         0         0         0   \n",
       "27994        0  ...         0         0         0         0         0   \n",
       "13543        0  ...         0         0         0         0         0   \n",
       "5332         0  ...         0         0         0         0         0   \n",
       "52871        0  ...         0         0         0         0         0   \n",
       "\n",
       "       pixel780  pixel781  pixel782  pixel783  pixel784  \n",
       "28894         0         0         0         0         0  \n",
       "23647         0         0         0         0         0  \n",
       "19837         0         0         0         0         0  \n",
       "34222         0         0         0         0         0  \n",
       "35345         0         0         0         0         0  \n",
       "...         ...       ...       ...       ...       ...  \n",
       "27366         0         0         0         0         0  \n",
       "27994         0         0         0         0         0  \n",
       "13543         0         0         0         0         0  \n",
       "5332          0         0         0         0         0  \n",
       "52871         0         0         0         0         0  \n",
       "\n",
       "[9959 rows x 784 columns]"
      ]
     },
     "execution_count": 23,
     "metadata": {},
     "output_type": "execute_result"
    }
   ],
   "source": [
    "a"
   ]
  },
  {
   "cell_type": "markdown",
   "id": "3c750f45",
   "metadata": {},
   "source": [
    "## 10000"
   ]
  },
  {
   "cell_type": "code",
   "execution_count": 28,
   "id": "ff69d6ba",
   "metadata": {},
   "outputs": [
    {
     "name": "stdout",
     "output_type": "stream",
     "text": [
      "0.9507099999999999\n",
      "0.001266056870760541\n",
      "CPU times: total: 24min 40s\n",
      "Wall time: 19min 15s\n"
     ]
    }
   ],
   "source": [
    "%%time\n",
    "accuracies = []\n",
    "for i in range(10):\n",
    "    a, b = kmeans_subset_selection(x_train, y_train, 10000,{'self_clustered': ['1','2','6','0'], 'combined_clustered': [['7', '9', '4'], ['3','5','8']]})\n",
    "    nn1.fit(a, b)\n",
    "    accuracies.append(accuracy_score(nn1.predict(x_test), y_test))\n",
    "print(np.array(accuracies).mean())\n",
    "print(np.array(accuracies).std())"
   ]
  },
  {
   "cell_type": "markdown",
   "id": "9396365b",
   "metadata": {},
   "source": [
    "## 5000"
   ]
  },
  {
   "cell_type": "code",
   "execution_count": 29,
   "id": "b410c6c4",
   "metadata": {},
   "outputs": [
    {
     "name": "stdout",
     "output_type": "stream",
     "text": [
      "0.94259\n",
      "0.0017980266961310685\n",
      "CPU times: total: 12min 58s\n",
      "Wall time: 7min 16s\n"
     ]
    }
   ],
   "source": [
    "%%time\n",
    "accuracies = []\n",
    "for i in range(10):\n",
    "    a, b = kmeans_subset_selection(x_train, y_train, 5000,{'self_clustered': ['1','2','6','0'], 'combined_clustered': [['7', '9', '4'], ['3','5','8']]})\n",
    "    nn1.fit(a, b)\n",
    "    accuracies.append(accuracy_score(nn1.predict(x_test), y_test))\n",
    "print(np.array(accuracies).mean())\n",
    "print(np.array(accuracies).std())"
   ]
  },
  {
   "cell_type": "markdown",
   "id": "1f59c3c3",
   "metadata": {},
   "source": [
    "## 1000"
   ]
  },
  {
   "cell_type": "code",
   "execution_count": 30,
   "id": "bb9389e1",
   "metadata": {},
   "outputs": [
    {
     "name": "stdout",
     "output_type": "stream",
     "text": [
      "0.90231\n",
      "0.0028693030512652257\n",
      "CPU times: total: 5min 48s\n",
      "Wall time: 1min 41s\n"
     ]
    }
   ],
   "source": [
    "%%time\n",
    "accuracies = []\n",
    "for i in range(10):\n",
    "    a, b = kmeans_subset_selection(x_train, y_train, 1000,{'self_clustered': ['1','2','6','0'], 'combined_clustered': [['7', '9', '4'], ['3','5','8']]})\n",
    "    nn1.fit(a, b)\n",
    "    accuracies.append(accuracy_score(nn1.predict(x_test), y_test))\n",
    "print(np.array(accuracies).mean())\n",
    "print(np.array(accuracies).std())"
   ]
  },
  {
   "cell_type": "markdown",
   "id": "166fdd7a",
   "metadata": {},
   "source": [
    "## 100"
   ]
  },
  {
   "cell_type": "code",
   "execution_count": 31,
   "id": "ae7384ca",
   "metadata": {},
   "outputs": [
    {
     "name": "stdout",
     "output_type": "stream",
     "text": [
      "0.74251\n",
      "0.015885304529658858\n",
      "CPU times: total: 1min 30s\n",
      "Wall time: 44.7 s\n"
     ]
    }
   ],
   "source": [
    "%%time\n",
    "accuracies = []\n",
    "for i in range(10):\n",
    "    a, b = kmeans_subset_selection(x_train, y_train, 100,{'self_clustered': ['1','2','6','0'], 'combined_clustered': [['7', '9', '4'], ['3','5','8']]})\n",
    "    nn1.fit(a, b)\n",
    "    accuracies.append(accuracy_score(nn1.predict(x_test), y_test))\n",
    "print(np.array(accuracies).mean())\n",
    "print(np.array(accuracies).std())"
   ]
  },
  {
   "cell_type": "code",
   "execution_count": null,
   "id": "538cef1d",
   "metadata": {},
   "outputs": [],
   "source": []
  }
 ],
 "metadata": {
  "kernelspec": {
   "display_name": "Python 3 (ipykernel)",
   "language": "python",
   "name": "python3"
  },
  "language_info": {
   "codemirror_mode": {
    "name": "ipython",
    "version": 3
   },
   "file_extension": ".py",
   "mimetype": "text/x-python",
   "name": "python",
   "nbconvert_exporter": "python",
   "pygments_lexer": "ipython3",
   "version": "3.11.7"
  }
 },
 "nbformat": 4,
 "nbformat_minor": 5
}
